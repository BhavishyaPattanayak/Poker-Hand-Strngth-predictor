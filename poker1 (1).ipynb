{
  "nbformat": 4,
  "nbformat_minor": 0,
  "metadata": {
    "colab": {
      "provenance": []
    },
    "kernelspec": {
      "name": "python3",
      "display_name": "Python 3"
    },
    "language_info": {
      "name": "python"
    }
  },
  "cells": [
    {
      "cell_type": "code",
      "execution_count": 3,
      "metadata": {
        "id": "piFqIqH_dtNb"
      },
      "outputs": [],
      "source": [
        "import pandas as pd\n",
        "import numpy as np\n",
        "import matplotlib.pyplot as plt\n",
        "from sklearn.model_selection import train_test_split, cross_val_predict\n",
        "from sklearn.preprocessing import StandardScaler\n",
        "from sklearn.svm import SVC\n",
        "from sklearn.linear_model import SGDClassifier\n",
        "from sklearn.metrics import accuracy_score, confusion_matrix\n",
        "from sklearn.impute import SimpleImputer"
      ]
    },
    {
      "cell_type": "code",
      "source": [
        "cols = ['Suit of card #1', 'Rank of card #1', 'Suit of card #2', 'Rank of card #2',\n",
        "        'Suit of card #3', 'Rank of card #3', 'Suit of card #4', 'Rank of card #4',\n",
        "        'Suit of card #5', 'Rank of card #5', 'Poker Hand']\n",
        "data = pd.read_csv('poker-hand-training-true.data', header=None, names=cols)\n",
        "test_data = pd.read_csv('poker-hand-testing (2).data', header=None, names=cols)\n"
      ],
      "metadata": {
        "id": "Y2j4aNWgd1Mk"
      },
      "execution_count": 4,
      "outputs": []
    },
    {
      "cell_type": "code",
      "source": [
        "X = data.iloc[:, :-1]\n",
        "y = data.iloc[:, -1]\n",
        "scaler = StandardScaler()\n",
        "X = scaler.fit_transform(X)\n",
        "X_train, X_val, y_train, y_val = train_test_split(X, y, test_size=0.2, random_state=42)\n"
      ],
      "metadata": {
        "id": "sVJ1IoHvd4NG"
      },
      "execution_count": 5,
      "outputs": []
    },
    {
      "cell_type": "code",
      "source": [
        "svm_model = SVC(kernel='linear', C=100, random_state=42)\n",
        "svm_cv_predictions = cross_val_predict(svm_model, X_train, y_train, cv=5)\n",
        "sgd_model = SGDClassifier(loss='log', alpha=0.01, random_state=42, max_iter=1000)\n",
        "sgd_cv_predictions = cross_val_predict(sgd_model, X_train, y_train, cv=5)\n"
      ],
      "metadata": {
        "id": "z3Z0lLpQd_e4"
      },
      "execution_count": null,
      "outputs": []
    },
    {
      "cell_type": "code",
      "source": [
        "svm_accuracy = precision_score(y_train, svm_cv_predictions, average='micro')\n",
        "print('SVM Accuracy: {:.2f}%'.format(svm_accuracy*100))\n",
        "sgd_accuracy = accuracy_score(y_train, sgd_cv_predictions)\n",
        "print('SGDClassifier Accuracy: {:.2f}%'.format(sgd_accuracy*100))\n"
      ],
      "metadata": {
        "id": "d44UK_AMeCFP"
      },
      "execution_count": null,
      "outputs": []
    },
    {
      "cell_type": "code",
      "source": [
        "test_X = test_data.iloc[:, :-1]\n",
        "test_X = scaler.transform(test_X)\n",
        "imputer = SimpleImputer(strategy='mean')\n",
        "test_X = imputer.fit_transform(test_X)"
      ],
      "metadata": {
        "id": "8VJJqFMreFPk"
      },
      "execution_count": null,
      "outputs": []
    },
    {
      "cell_type": "code",
      "source": [
        "svm_model.fit(X_train, y_train)\n",
        "test_predictions = svm_model.predict(test_X)\n",
        "test_accuracy = accuracy_score(test_data.iloc[:, -1], test_predictions)\n",
        "print('SVM Test Accuracy: {:.2f}%'.format(test_accuracy*100))"
      ],
      "metadata": {
        "id": "U893jJBXeGzT"
      },
      "execution_count": null,
      "outputs": []
    },
    {
      "cell_type": "code",
      "source": [
        "cm = confusion_matrix(y_train, svm_cv_predictions)\n",
        "classes = np.unique(y_train)\n",
        "fig, ax = plt.subplots()\n",
        "im = ax.imshow(cm, interpolation='nearest', cmap=plt.cm.Blues)\n",
        "ax.figure.colorbar(im, ax=ax)\n",
        "ax.set(xticks=np.arange(cm.shape[1]),\n",
        "       yticks=np.arange(cm.shape[0]),\n",
        "       xticklabels=classes,\n",
        "       yticklabels=classes,\n",
        "       title='Confusion matrix',\n",
        "       ylabel='True label',\n",
        "       xlabel='Predicted label')\n",
        "for i in range(len(classes)):\n",
        "    for j in range(len(classes)):\n",
        "        ax.text(j, i, cm[i, j], ha=\"center\", va=\"center\", color=\"white\")\n",
        "plt.show()"
      ],
      "metadata": {
        "id": "VHoS2yGVo9gt"
      },
      "execution_count": null,
      "outputs": []
    }
  ]
}